{
 "cells": [
  {
   "cell_type": "code",
   "execution_count": 219,
   "metadata": {},
   "outputs": [
    {
     "data": {
      "text/html": [
       "<div>\n",
       "<style scoped>\n",
       "    .dataframe tbody tr th:only-of-type {\n",
       "        vertical-align: middle;\n",
       "    }\n",
       "\n",
       "    .dataframe tbody tr th {\n",
       "        vertical-align: top;\n",
       "    }\n",
       "\n",
       "    .dataframe thead th {\n",
       "        text-align: right;\n",
       "    }\n",
       "</style>\n",
       "<table border=\"1\" class=\"dataframe\">\n",
       "  <thead>\n",
       "    <tr style=\"text-align: right;\">\n",
       "      <th></th>\n",
       "      <th>TID</th>\n",
       "      <th>CIVILSTAND</th>\n",
       "      <th>INDHOLD</th>\n",
       "      <th>TOTAL</th>\n",
       "      <th>% of total is divorced</th>\n",
       "    </tr>\n",
       "  </thead>\n",
       "  <tbody>\n",
       "    <tr>\n",
       "      <td>0</td>\n",
       "      <td>2008K1</td>\n",
       "      <td>Fraskilt</td>\n",
       "      <td>428864</td>\n",
       "      <td>5475791</td>\n",
       "      <td>7.832001</td>\n",
       "    </tr>\n",
       "    <tr>\n",
       "      <td>1</td>\n",
       "      <td>2008K2</td>\n",
       "      <td>Fraskilt</td>\n",
       "      <td>431550</td>\n",
       "      <td>5482266</td>\n",
       "      <td>7.871745</td>\n",
       "    </tr>\n",
       "    <tr>\n",
       "      <td>2</td>\n",
       "      <td>2008K3</td>\n",
       "      <td>Fraskilt</td>\n",
       "      <td>432713</td>\n",
       "      <td>5489022</td>\n",
       "      <td>7.883244</td>\n",
       "    </tr>\n",
       "    <tr>\n",
       "      <td>3</td>\n",
       "      <td>2008K4</td>\n",
       "      <td>Fraskilt</td>\n",
       "      <td>432156</td>\n",
       "      <td>5505995</td>\n",
       "      <td>7.848827</td>\n",
       "    </tr>\n",
       "    <tr>\n",
       "      <td>4</td>\n",
       "      <td>2009K1</td>\n",
       "      <td>Fraskilt</td>\n",
       "      <td>434233</td>\n",
       "      <td>5511451</td>\n",
       "      <td>7.878742</td>\n",
       "    </tr>\n",
       "  </tbody>\n",
       "</table>\n",
       "</div>"
      ],
      "text/plain": [
       "      TID CIVILSTAND  INDHOLD    TOTAL  % of total is divorced\n",
       "0  2008K1   Fraskilt   428864  5475791                7.832001\n",
       "1  2008K2   Fraskilt   431550  5482266                7.871745\n",
       "2  2008K3   Fraskilt   432713  5489022                7.883244\n",
       "3  2008K4   Fraskilt   432156  5505995                7.848827\n",
       "4  2009K1   Fraskilt   434233  5511451                7.878742"
      ]
     },
     "execution_count": 219,
     "metadata": {},
     "output_type": "execute_result"
    }
   ],
   "source": [
    "import pandas as pd\n",
    "import numpy as np\n",
    "import matplotlib.pyplot as plt\n",
    "%matplotlib inline \n",
    "\n",
    "#https://api.statbank.dk/v1/data/FOLK1A/CSV?delimiter=Semicolon&Tid=*&CIVILSTAND=F%2CTOT\n",
    "df = pd.read_csv(\"https://api.statbank.dk/v1/data/FOLK1A/CSV?delimiter=Semicolon&Tid=*&CIVILSTAND=F\", sep =\";\")\n",
    "df_tot = pd.read_csv(\"https://api.statbank.dk/v1/data/FOLK1A/CSV?delimiter=Semicolon&Tid=*&CIVILSTAND=TOT\", sep =\";\")\n",
    "df[\"TOTAL\"] = df_tot['INDHOLD']\n",
    "df['% of total is divorced'] = df.apply(lambda row: row.INDHOLD/row.TOTAL*100,axis = 1)\n",
    "df.head()\n",
    "\n",
    "\n",
    "\n"
   ]
  },
  {
   "cell_type": "code",
   "execution_count": 220,
   "metadata": {},
   "outputs": [
    {
     "data": {
      "text/plain": [
       "[<matplotlib.lines.Line2D at 0x19ec129fdc8>]"
      ]
     },
     "execution_count": 220,
     "metadata": {},
     "output_type": "execute_result"
    },
    {
     "data": {
      "image/png": "[encoded data removed]",
      "text/plain": [
       "<Figure size 432x288 with 1 Axes>"
      ]
     },
     "metadata": {
      "needs_background": "light"
     },
     "output_type": "display_data"
    }
   ],
   "source": [
    "#Ex1 5A\n",
    "people = df.iloc[::6,2]\n",
    "year = df.iloc[::6,0]\n",
    "people_tot = df.iloc[::6,3]\n",
    "people_div = df.iloc[::6,4]\n",
    "#print(year)\n",
    "#print(people)\n",
    "#print(people_tot)\n",
    "plt.xlabel('Year')\n",
    "plt.ylabel('Percent of divorced')\n",
    "plt.plot(year,people_div)\n",
    "#plt.plot(year,people)\n",
    "#plt.plot(year,people_tot)\n",
    "\n"
   ]
  },
  {
   "cell_type": "code",
   "execution_count": 175,
   "metadata": {},
   "outputs": [
    {
     "data": {
      "text/html": [
       "<div>\n",
       "<style scoped>\n",
       "    .dataframe tbody tr th:only-of-type {\n",
       "        vertical-align: middle;\n",
       "    }\n",
       "\n",
       "    .dataframe tbody tr th {\n",
       "        vertical-align: top;\n",
       "    }\n",
       "\n",
       "    .dataframe thead th {\n",
       "        text-align: right;\n",
       "    }\n",
       "</style>\n",
       "<table border=\"1\" class=\"dataframe\">\n",
       "  <thead>\n",
       "    <tr style=\"text-align: right;\">\n",
       "      <th></th>\n",
       "      <th>OMRÅDE</th>\n",
       "      <th>CIVILSTAND</th>\n",
       "      <th>TID</th>\n",
       "      <th>INDHOLD</th>\n",
       "      <th>TOTAL</th>\n",
       "      <th>% of total is unmarried</th>\n",
       "    </tr>\n",
       "  </thead>\n",
       "  <tbody>\n",
       "    <tr>\n",
       "      <td>1</td>\n",
       "      <td>Region Hovedstaden</td>\n",
       "      <td>Ugift</td>\n",
       "      <td>2020K1</td>\n",
       "      <td>973802</td>\n",
       "      <td>1846023</td>\n",
       "      <td>52.751347</td>\n",
       "    </tr>\n",
       "    <tr>\n",
       "      <td>73</td>\n",
       "      <td>Region Midtjylland</td>\n",
       "      <td>Ugift</td>\n",
       "      <td>2020K1</td>\n",
       "      <td>653428</td>\n",
       "      <td>1326340</td>\n",
       "      <td>49.265498</td>\n",
       "    </tr>\n",
       "    <tr>\n",
       "      <td>50</td>\n",
       "      <td>Region Syddanmark</td>\n",
       "      <td>Ugift</td>\n",
       "      <td>2020K1</td>\n",
       "      <td>568126</td>\n",
       "      <td>1223105</td>\n",
       "      <td>46.449487</td>\n",
       "    </tr>\n",
       "    <tr>\n",
       "      <td>32</td>\n",
       "      <td>Region Sjælland</td>\n",
       "      <td>Ugift</td>\n",
       "      <td>2020K1</td>\n",
       "      <td>368715</td>\n",
       "      <td>837359</td>\n",
       "      <td>44.033085</td>\n",
       "    </tr>\n",
       "    <tr>\n",
       "      <td>2</td>\n",
       "      <td>København</td>\n",
       "      <td>Ugift</td>\n",
       "      <td>2020K1</td>\n",
       "      <td>412512</td>\n",
       "      <td>632340</td>\n",
       "      <td>65.235791</td>\n",
       "    </tr>\n",
       "  </tbody>\n",
       "</table>\n",
       "</div>"
      ],
      "text/plain": [
       "                OMRÅDE CIVILSTAND     TID  INDHOLD    TOTAL  \\\n",
       "1   Region Hovedstaden      Ugift  2020K1   973802  1846023   \n",
       "73  Region Midtjylland      Ugift  2020K1   653428  1326340   \n",
       "50   Region Syddanmark      Ugift  2020K1   568126  1223105   \n",
       "32     Region Sjælland      Ugift  2020K1   368715   837359   \n",
       "2            København      Ugift  2020K1   412512   632340   \n",
       "\n",
       "    % of total is unmarried  \n",
       "1                 52.751347  \n",
       "73                49.265498  \n",
       "50                46.449487  \n",
       "32                44.033085  \n",
       "2                 65.235791  "
      ]
     },
     "execution_count": 175,
     "metadata": {},
     "output_type": "execute_result"
    }
   ],
   "source": [
    "#Ex1 5B\n",
    "df = pd.read_csv(\"https://api.statbank.dk/v1/data/FOLK1A/CSV?delimiter=Semicolon&OMR%C3%85DE=*&CIVILSTAND=U\", sep =\";\")\n",
    "df_tot = pd.read_csv(\"https://api.statbank.dk/v1/data/FOLK1A/CSV?delimiter=Semicolon&OMR%C3%85DE=*&CIVILSTAND=TOT\", sep =\";\")\n",
    "df['TOTAL'] = df_tot['INDHOLD']\n",
    "df['% of total is unmarried'] = df.apply(lambda row: row.INDHOLD/row.TOTAL*100,axis = 1)\n",
    "df=df.iloc[1:] #dropping first row which is the whole country\n",
    "df.shape\n",
    "biggest = df.nlargest(104,'TOTAL')\n",
    "biggest.head() #5 largest is here the 5 first index\n",
    "#answer is København"
   ]
  },
  {
   "cell_type": "code",
   "execution_count": 235,
   "metadata": {},
   "outputs": [
    {
     "data": {
      "text/plain": [
       "<matplotlib.legend.Legend at 0x19ec1718cc8>"
      ]
     },
     "execution_count": 235,
     "metadata": {},
     "output_type": "execute_result"
    },
    {
     "data": {
      "image/png": "[encoded data removed]",
      "text/plain": [
       "<Figure size 432x288 with 1 Axes>"
      ]
     },
     "metadata": {
      "needs_background": "light"
     },
     "output_type": "display_data"
    }
   ],
   "source": [
    "#Ex1 5C\n",
    "#https://api.statbank.dk/v1/data/FOLK1A/CSV?delimiter=Semicolon&Tid=*&OMR%C3%85DE=101&CIVILSTAND=G%2CE%2CF\n",
    "df = pd.read_csv(\"https://api.statbank.dk/v1/data/FOLK1A/CSV?delimiter=Semicolon&Tid=*&OMR%C3%85DE=101&CIVILSTAND=G%2CE%2CF\", sep = \";\")\n",
    "df.head()\n",
    "propertable = df.pivot_table(values='INDHOLD',index='TID',columns='CIVILSTAND')\n",
    "#print(propertable.index[::6])\n",
    "#year = propertable.iloc[:,1]\n",
    "#print(propertable)\n",
    "enke = propertable.iloc[::6,0]\n",
    "fraskilt = propertable.iloc[::6,1]\n",
    "giftugift = propertable.iloc[::6,2]\n",
    "#print(enke)\n",
    "plt.xlabel('Year')\n",
    "plt.ylabel('People')\n",
    "plt.bar(propertable.index[::6],giftugift, width=0.5, linewidth=0, align='center', color='blue',label='gifgugift')\n",
    "plt.bar(propertable.index[::6],fraskilt, width=0.5, linewidth=0, align='center', color='red',label='fraskilt')\n",
    "plt.bar(propertable.index[::6],enke, width=0.5, linewidth=0, align='center', color='yellow',label='enke')\n",
    "plt.legend()\n",
    "\n"
   ]
  },
  {
   "cell_type": "code",
   "execution_count": 283,
   "metadata": {},
   "outputs": [
    {
     "data": {
      "text/plain": [
       "<matplotlib.legend.Legend at 0x19ec5ad9848>"
      ]
     },
     "execution_count": 283,
     "metadata": {},
     "output_type": "execute_result"
    },
    {
     "data": {
      "image/png": "[encoded data removed]",
      "text/plain": [
       "<Figure size 432x288 with 1 Axes>"
      ]
     },
     "metadata": {
      "needs_background": "light"
     },
     "output_type": "display_data"
    }
   ],
   "source": [
    "#Ex1 5D\n",
    "#laver to reads for lettere at kunne lave en enkelt tabel\n",
    "df = pd.read_csv(\"https://api.statbank.dk/v1/data/FOLK1A/CSV?delimiter=Semicolon&ALDER=*&CIVILSTAND=G\", sep = \";\")\n",
    "df_u = pd.read_csv(\"https://api.statbank.dk/v1/data/FOLK1A/CSV?delimiter=Semicolon&ALDER=*&CIVILSTAND=U\", sep = \";\")\n",
    "df['UGIFT'] = df_u['INDHOLD']\n",
    "df.rename(columns={'INDHOLD': 'GIFT/SEP'}, inplace=True)\n",
    "#df['% of total is unmarried'] = df.apply(lambda row: row.INDHOLD/row.TOTAL*100,axis = 1)\n",
    "df=df.iloc[2:] #dropping first two rows which is the whole country\n",
    "del df['CIVILSTAND']\n",
    "del df['TID']\n",
    "df.set_index('ALDER', inplace=True)\n",
    "df.head()\n",
    "gift = df.iloc[:,0]\n",
    "ugift = df.iloc[:,1]\n",
    "#print(gift)\n",
    "X = np.arange(125) # 125values\n",
    "plt.xlabel('Alder')\n",
    "plt.ylabel('People')\n",
    "plt.bar(X,gift, width=0.5, linewidth=0, align='center', color='blue',label='gift')\n",
    "plt.bar(X + 0.5,ugift, width=0.5, linewidth=0, align='center', color='red',label='ugift')\n",
    "plt.legend()\n"
   ]
  }
 ],
 "metadata": {
  "kernelspec": {
   "display_name": "Python 3",
   "language": "python",
   "name": "python3"
  },
  "language_info": {
   "codemirror_mode": {
    "name": "ipython",
    "version": 3
   },
   "file_extension": ".py",
   "mimetype": "text/x-python",
   "name": "python",
   "nbconvert_exporter": "python",
   "pygments_lexer": "ipython3",
   "version": "3.7.4"
  }
 },
 "nbformat": 4,
 "nbformat_minor": 2
}
