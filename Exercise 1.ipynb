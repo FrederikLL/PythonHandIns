{
 "cells": [
  {
   "cell_type": "markdown",
   "metadata": {},
   "source": [
    "#Exercise 1"
   ]
  },
  {
   "cell_type": "code",
   "execution_count": 2,
   "metadata": {},
   "outputs": [
    {
     "name": "stdout",
     "output_type": "stream",
     "text": [
      "['Hanne', 'Hans', 'Henrik']\n",
      "[1, 8, 27, 64, 125, 216, 343, 512, 729, 1000, 1331, 1728, 2197, 2744, 3375, 4096, 4913, 5832, 6859, 8000, 9261, 10648, 12167, 13824, 15625, 17576, 19683, 21952, 24389, 27000, 29791, 32768, 35937, 39304, 42875, 46656, 50653, 54872, 59319, 64000, 68921, 74088, 79507, 85184, 91125, 97336, 103823, 110592, 117649, 125000, 132651, 140608, 148877, 157464, 166375, 175616, 185193, 195112, 205379, 216000, 226981, 238328, 250047, 262144, 274625, 287496, 300763, 314432, 328509, 343000, 357911, 373248, 389017, 405224, 421875, 438976, 456533, 474552, 493039, 512000, 531441, 551368, 571787, 592704, 614125, 636056, 658503, 681472, 704969, 729000, 753571, 778688, 804357, 830584, 857375, 884736, 912673, 941192, 970299, 1000000]\n",
      "[(5, 'Hanne'), (4, 'Arne'), (7, 'Carsten'), (4, 'Hans'), (6, 'Henrik'), (4, 'Jens')]\n",
      "478861\n",
      "[1, 2, 3, 4, 5, 6]\n",
      "{(1, 3), (6, 6), (5, 6), (2, 1), (6, 2), (1, 6), (5, 1), (2, 5), (1, 2), (3, 3), (5, 5), (4, 4), (6, 3), (1, 5), (3, 6), (2, 2), (4, 1), (1, 1), (6, 4), (3, 2), (2, 6), (5, 4), (4, 5), (5, 2), (1, 4), (2, 3), (4, 2), (6, 5), (3, 5), (5, 3), (4, 6), (6, 1), (3, 1), (4, 3), (3, 4), (2, 4)}\n"
     ]
    }
   ],
   "source": [
    "#1a\n",
    "names =  [\"Hanne\", \"Arne\", \"Carsten\", \"Hans\", \"Henrik\", \"Jens\"];\n",
    "#print(names);\n",
    "namesH = [name for name in names if name.startswith('H')];\n",
    "print(namesH);\n",
    "#1b\n",
    "numbs = [i**3 for i in range(1,101)];\n",
    "print(numbs);\n",
    "\n",
    "#1c\n",
    "tuplez = [(len(x),x) for x in names];\n",
    "print (tuplez);\n",
    "\n",
    "#1d\n",
    "strNum = \"Hej47Med88Dig61\";\n",
    "listcom = ''.join(x for x in strNum if x.isdigit())\n",
    "print(listcom);\n",
    "\n",
    "#1e\n",
    "dice = [n for n in range(1,7)];\n",
    "dice2 = [n for n in range(1,7)];\n",
    "print(dice)\n",
    "dieOps = set([(x,y) for x in dice for y in dice2])\n",
    "print(dieOps);\n",
    "\n"
   ]
  },
  {
   "cell_type": "code",
   "execution_count": 3,
   "metadata": {},
   "outputs": [
    {
     "name": "stdout",
     "output_type": "stream",
     "text": [
      "{'Hanne': 5, 'Arne': 4, 'Carsten': 7, 'Hans': 4, 'Henrik': 6, 'Jens': 4}\n",
      "{1: 1.0, 2: 1.4142135623730951, 3: 1.7320508075688772, 4: 2.0, 5: 2.23606797749979, 6: 2.449489742783178, 7: 2.6457513110645907, 8: 2.8284271247461903, 9: 3.0, 10: 3.1622776601683795, 11: 3.3166247903554, 12: 3.4641016151377544, 13: 3.605551275463989, 14: 3.7416573867739413, 15: 3.872983346207417, 16: 4.0, 17: 4.123105625617661, 18: 4.242640687119285, 19: 4.358898943540674, 20: 4.47213595499958, 21: 4.58257569495584, 22: 4.69041575982343, 23: 4.795831523312719, 24: 4.898979485566356, 25: 5.0, 26: 5.0990195135927845, 27: 5.196152422706632, 28: 5.291502622129181, 29: 5.385164807134504, 30: 5.477225575051661, 31: 5.5677643628300215, 32: 5.656854249492381, 33: 5.744562646538029, 34: 5.830951894845301, 35: 5.916079783099616, 36: 6.0, 37: 6.082762530298219, 38: 6.164414002968976, 39: 6.244997998398398, 40: 6.324555320336759, 41: 6.4031242374328485, 42: 6.48074069840786, 43: 6.557438524302, 44: 6.6332495807108, 45: 6.708203932499369, 46: 6.782329983125268, 47: 6.855654600401044, 48: 6.928203230275509, 49: 7.0, 50: 7.0710678118654755}\n"
     ]
    }
   ],
   "source": [
    "import math\n",
    "#2a\n",
    "dictOne = {x:len(x) for x in names};\n",
    "print(dictOne);\n",
    "#2b\n",
    "numbzz = {x:math.sqrt(x) for x in range(1,51)};\n",
    "print(numbzz);\n",
    "\n"
   ]
  },
  {
   "cell_type": "code",
   "execution_count": 7,
   "metadata": {},
   "outputs": [
    {
     "name": "stdout",
     "output_type": "stream",
     "text": [
      "{2: 2.7777777777777777, 3: 5.555555555555555, 4: 8.333333333333332, 5: 11.11111111111111, 6: 13.88888888888889, 7: 16.666666666666664, 8: 13.88888888888889, 9: 11.11111111111111, 10: 8.333333333333332, 11: 5.555555555555555, 12: 2.7777777777777777}\n"
     ]
    }
   ],
   "source": [
    "#3a\n",
    "#Total number of combinations\n",
    "totalCombs = 36;\n",
    "\n",
    "#A list with the possible sums\n",
    "diePosSum = set([x+y for x in dice for y in dice2])\n",
    "#print(diePosSum);\n",
    "\n",
    "#A unordered list of all the sums and their occurences(5 occurs 4 times etc.)\n",
    "dieCombSum = [(x+y) for x in dice for y in dice2];\n",
    "#print(dieCombSum);\n",
    "\n",
    "#list of tuples, first value is the total, second value is number of possible occurences (This is not needed)\n",
    "dieTC = set([(x,dieCombSum.count(x)) for x in dieCombSum])\n",
    "#print(dieTC);\n",
    "\n",
    "#The answer\n",
    "dieDict = {x:dieCombSum.count(x)/totalCombs*100 for x in diePosSum};\n",
    "print(dieDict);"
   ]
  },
  {
   "cell_type": "code",
   "execution_count": null,
   "metadata": {},
   "outputs": [],
   "source": []
  }
 ],
 "metadata": {
  "kernelspec": {
   "display_name": "Python 3",
   "language": "python",
   "name": "python3"
  },
  "language_info": {
   "codemirror_mode": {
    "name": "ipython",
    "version": 3
   },
   "file_extension": ".py",
   "mimetype": "text/x-python",
   "name": "python",
   "nbconvert_exporter": "python",
   "pygments_lexer": "ipython3",
   "version": "3.7.4"
  }
 },
 "nbformat": 4,
 "nbformat_minor": 2
}
